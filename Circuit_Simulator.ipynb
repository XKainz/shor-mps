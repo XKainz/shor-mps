{
 "cells": [
  {
   "cell_type": "code",
   "execution_count": 1,
   "metadata": {
    "executionInfo": {
     "elapsed": 5,
     "status": "ok",
     "timestamp": 1641835705558,
     "user": {
      "displayName": "Frank Pollmann",
      "photoUrl": "https://lh3.googleusercontent.com/a-/AOh14GgLG6vyiEBA2wmwbZKVIdNZjnW1DN4F2DU-tNTlcQ=s64",
      "userId": "03575576895898273935"
     },
     "user_tz": -60
    },
    "id": "Za9g5tlaywGq"
   },
   "outputs": [],
   "source": [
    "import numpy as np\n",
    "\n",
    "def apply_u(psi,u,idx):\n",
    "    l = len(u.shape)//2; L = len(psi.shape)\n",
    "    psi = np.tensordot(psi,u,axes=(idx,range(l)))\n",
    "    psi = psi.transpose([*range(idx[0])] + \n",
    "                        [*range(L-l,L)] + \n",
    "                        [*range(idx[0],L-l)])\n",
    "    return psi\n",
    "\n",
    "def print_amplitudes(psi):\n",
    "  L = len(psi.shape)\n",
    "  for i in range(2**L):\n",
    "    X =  np.array([0]*(L - len(list(bin(i)[2:]))) + list(bin(i)[2:]),dtype=int)\n",
    "    print(X,\":\",psi.reshape(2**L)[i])"
   ]
  },
  {
   "cell_type": "code",
   "execution_count": 2,
   "metadata": {
    "colab": {
     "base_uri": "https://localhost:8080/"
    },
    "executionInfo": {
     "elapsed": 226,
     "status": "ok",
     "timestamp": 1641835708117,
     "user": {
      "displayName": "Frank Pollmann",
      "photoUrl": "https://lh3.googleusercontent.com/a-/AOh14GgLG6vyiEBA2wmwbZKVIdNZjnW1DN4F2DU-tNTlcQ=s64",
      "userId": "03575576895898273935"
     },
     "user_tz": -60
    },
    "id": "cdQgDf6myzBU",
    "outputId": "1c03533f-9141-45ee-9d39-f2fecddbf3b9"
   },
   "outputs": [
    {
     "name": "stdout",
     "output_type": "stream",
     "text": [
      "[0 0 0] : 0.4999999999999999\n",
      "[0 0 1] : 0.0\n",
      "[0 1 0] : 0.0\n",
      "[0 1 1] : 0.4999999999999999\n",
      "[1 0 0] : 0.4999999999999999\n",
      "[1 0 1] : 0.0\n",
      "[1 1 0] : 0.0\n",
      "[1 1 1] : 0.4999999999999999\n"
     ]
    }
   ],
   "source": [
    "CNOT = np.array([[1,0,0,0],\n",
    "                 [0,1,0,0],\n",
    "                 [0,0,0,1],\n",
    "                 [0,0,1,0]]).reshape([2,2,2,2])\n",
    "\n",
    "H = 1/np.sqrt(2)*np.array([[1, 1],\n",
    "                           [1,-1]])\n",
    "L = 3\n",
    "psi = np.zeros(2**L);psi[0]=1.;\n",
    "psi = psi.reshape(L*[2])\n",
    "\n",
    "psi = apply_u(psi,H,[0])\n",
    "psi = apply_u(psi,H,[1])\n",
    "psi = apply_u(psi,CNOT,[1,2])\n",
    "\n",
    "print_amplitudes(psi)"
   ]
  },
  {
   "cell_type": "code",
   "execution_count": null,
   "metadata": {},
   "outputs": [],
   "source": []
  }
 ],
 "metadata": {
  "colab": {
   "authorship_tag": "ABX9TyOvB/kF4/1e7Xv+gCnV53ZQ",
   "collapsed_sections": [],
   "name": "B_Circuit_Simulator.ipynb",
   "provenance": []
  },
  "kernelspec": {
   "display_name": "Python 3",
   "language": "python",
   "name": "python3"
  },
  "language_info": {
   "codemirror_mode": {
    "name": "ipython",
    "version": 3
   },
   "file_extension": ".py",
   "mimetype": "text/x-python",
   "name": "python",
   "nbconvert_exporter": "python",
   "pygments_lexer": "ipython3",
   "version": "3.8.5"
  }
 },
 "nbformat": 4,
 "nbformat_minor": 4
}
