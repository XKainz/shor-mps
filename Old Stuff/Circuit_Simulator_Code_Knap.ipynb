{
 "cells": [
  {
   "cell_type": "code",
   "execution_count": 47,
   "metadata": {
    "executionInfo": {
     "elapsed": 5,
     "status": "ok",
     "timestamp": 1641835705558,
     "user": {
      "displayName": "Frank Pollmann",
      "photoUrl": "https://lh3.googleusercontent.com/a-/AOh14GgLG6vyiEBA2wmwbZKVIdNZjnW1DN4F2DU-tNTlcQ=s64",
      "userId": "03575576895898273935"
     },
     "user_tz": -60
    },
    "id": "Za9g5tlaywGq"
   },
   "outputs": [
    {
     "name": "stdout",
     "output_type": "stream",
     "text": [
      "[0.22512116 0.96940383 1.3346491  1.63739986 1.98396996 2.18549681\n",
      " 2.32764497 2.47500644 2.71448908 2.90162368 3.09101644 3.28301651\n",
      " 3.4935281  3.70585534 3.90090159 4.08672711 4.30529427 4.49553791\n",
      " 4.66445248 4.83642394 5.00722157 5.1522219  5.2937978  5.45993766\n",
      " 5.5891746  5.72595123 5.82401162 5.93286561 6.0303782  6.10857694\n",
      " 6.19508876 6.2751511  6.34774312 6.40526894 6.47163333 6.53052698\n",
      " 6.58698601 6.63782695 6.67984254 6.72460078 6.75967709 6.80359808\n",
      " 6.84016773 6.87532843 6.90482897 6.93846291 6.95548139 6.97813894\n",
      " 6.99418436 7.01477893 7.02456572 7.03774569 7.06077029 7.08051916\n",
      " 7.09417436 7.10885023 7.12023382 7.13414083 7.14370738 7.15112171\n",
      " 7.16531059 7.16806406 7.1890322  7.18942154 7.18392699 7.18883899\n",
      " 7.19868925 7.20686249 7.20261753 7.21777662 7.2216903  7.22258447\n",
      " 7.23019983 7.22405823 7.22884742 7.2335757  7.24126202 7.24353757\n",
      " 7.24173543 7.24595569 7.24495593 7.2458757  7.2519659  7.2515805\n",
      " 7.25403335 7.26070759 7.26564926 7.25694746 7.26506843 7.26385\n",
      " 7.26361624 7.26364309 7.26706199 7.2636163  7.26101596 7.26267103\n",
      " 7.26644431 7.26474269 7.2650113  7.26902472 7.26768513 7.26228099\n",
      " 7.2659389  7.27325382 7.26769163 7.27031889 7.27466708 7.27207861\n",
      " 7.2677222  7.27748717 7.27808661 7.27332031 7.27274529 7.27316036\n",
      " 7.27488505 7.27056773 7.27522679 7.27598524 7.2703409  7.27460512]\n"
     ]
    },
    {
     "data": {
      "text/plain": [
       "Text(0, 0.5, 'entropy')"
      ]
     },
     "execution_count": 47,
     "metadata": {},
     "output_type": "execute_result"
    },
    {
     "data": {
      "image/png": "[encoded data removed]",
      "text/plain": [
       "<Figure size 432x288 with 1 Axes>"
      ]
     },
     "metadata": {
      "needs_background": "light"
     },
     "output_type": "display_data"
    }
   ],
   "source": [
    "import numpy as np\n",
    "from scipy import linalg \n",
    "import matplotlib.pyplot as plt\n",
    "\n",
    "\n",
    "a, b, c = 1*np.pi/5, np.pi/3, np.pi/5\n",
    "X = np.matrix(np.array([[0.,1.],[1.,0.]]))\n",
    "Z = np.matrix(np.array([[1.,0.],[0.,-1.]]))\n",
    "U_R_matrix = linalg.expm(- 1j * (b * X + c * Z))\n",
    "U_XX_matrix = linalg.expm(- 1j * a * np.kron(X,X)).reshape([2,2,2,2])\n",
    "\n",
    "class Reg: \n",
    "    def __init__(self,n):\n",
    "        self.n=n\n",
    "        self.psi=np.zeros((2,)*n) \n",
    "        self.psi[(0,)*n]=1\n",
    "        \n",
    "def U_R(i,reg): \n",
    "    reg.psi=np.tensordot(U_R_matrix,reg.psi,(1,i)) \n",
    "    reg.psi=np.moveaxis(reg.psi,0,i)\n",
    "\n",
    "def U_XX(control, target, reg):\n",
    "    reg.psi=np.tensordot(U_XX_matrix, reg.psi, ((2,3),(control, target))) \n",
    "    reg.psi=np.moveaxis(reg.psi,(0,1),(control,target))\n",
    "\n",
    "def compute_entanglement(reg):\n",
    "    rho_A = np.tensordot(reg.psi.conj(), reg.psi, (np.arange(0,L//2), np.arange(0,L//2)))\n",
    "    rho_A = rho_A.reshape([2**(L//2), 2**(L//2)])\n",
    "   \n",
    "    lam, v = np.linalg.eig(rho_A)\n",
    "    lam = np.real(lam)+10**(-12)\n",
    "    return -np.dot(lam, np.log(lam))/np.log(2.)\n",
    "\n",
    "H_matrix=1/np.sqrt(2)*np.array([[1, 1],\n",
    "                                [1,-1]])\n",
    "\n",
    "CNOT_matrix=np.array([[1,0,0,0],\n",
    "                      [0,1,0,0],\n",
    "                      [0,0,0,1],\n",
    "                      [0,0,1,0]]).reshape([2,2,2,2])\n",
    "\n",
    "def H(i,reg): \n",
    "    reg.psi=np.tensordot(H_matrix,reg.psi,(1,i)) \n",
    "    reg.psi=np.moveaxis(reg.psi,0,i)\n",
    "\n",
    "def CNOT(control, target, reg):\n",
    "    reg.psi=np.tensordot(CNOT_tensor, reg.psi, ((2,3),(control, target))) \n",
    "    reg.psi=np.moveaxis(reg.psi,(0,1),(control,target))   \n",
    "\n",
    "def generate_GHZ(reg): \n",
    "    H(0,reg)\n",
    "    for i in range(reg.n-1):\n",
    "        CNOT(i,i+1,reg)\n",
    "    \n",
    "# Example of final usage: create uniform superposition\n",
    "L = 16\n",
    "N_layers = 120\n",
    "\n",
    "# reinitialize register\n",
    "reg=Reg(L)\n",
    "\n",
    "# apply N_layers layers of qubit rotations and XX gates\n",
    "S = np.zeros(N_layers)\n",
    "\n",
    "for i in range(N_layers):\n",
    "    \n",
    "    #apply rotation layer\n",
    "    for j in range(L):\n",
    "        U_R(j, reg)\n",
    "    \n",
    "    #apply entangling layer on odd bonds\n",
    "    for j in range(L // 2):\n",
    "        U_XX(2*j, 2*j+1, reg)\n",
    "        \n",
    "    #apply entangling layer on even bonds\n",
    "    for j in range(1,L // 2):\n",
    "        U_XX(2*j-1, 2*j, reg)\n",
    "        \n",
    "    # compute entanglement\n",
    "    S[i] = compute_entanglement(reg)\n",
    "    \n",
    "\n",
    "print(S)\n",
    "plt.rcParams[\"font.family\"] = \"Times New Roman\"\n",
    "plt.rcParams[\"font.size\"] = \"16\"\n",
    "fig, ax = plt.subplots()\n",
    "\n",
    "plt.plot(np.arange(0,N_layers), S)\n",
    "plt.xlabel('gate depth')\n",
    "plt.ylabel('entropy')\n",
    "\n"
   ]
  },
  {
   "cell_type": "code",
   "execution_count": null,
   "metadata": {},
   "outputs": [],
   "source": []
  }
 ],
 "metadata": {
  "colab": {
   "authorship_tag": "ABX9TyOvB/kF4/1e7Xv+gCnV53ZQ",
   "collapsed_sections": [],
   "name": "B_Circuit_Simulator.ipynb",
   "provenance": []
  },
  "kernelspec": {
   "display_name": "Python 3",
   "language": "python",
   "name": "python3"
  },
  "language_info": {
   "codemirror_mode": {
    "name": "ipython",
    "version": 3
   },
   "file_extension": ".py",
   "mimetype": "text/x-python",
   "name": "python",
   "nbconvert_exporter": "python",
   "pygments_lexer": "ipython3",
   "version": "3.11.3"
  },
  "vscode": {
   "interpreter": {
    "hash": "e7370f93d1d0cde622a1f8e1c04877d8463912d04d973331ad4851f04de6915a"
   }
  }
 },
 "nbformat": 4,
 "nbformat_minor": 4
}
