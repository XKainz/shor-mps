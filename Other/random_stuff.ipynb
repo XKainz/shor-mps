{
 "cells": [
  {
   "cell_type": "code",
   "execution_count": 13,
   "metadata": {},
   "outputs": [],
   "source": [
    "import shor_helpers as sh\n",
    "import numpy as np\n",
    "\n",
    "\n",
    "file = open(\"viable_N_with_x\",\"w\")\n",
    "for i in range(15,1000):\n",
    "    if sh.N_valid(i):\n",
    "        x = sh.get_several_x_for_N(i,6)\n",
    "        file.write(\"N: \"+str(i)+\" x: \"+str(x)+\"\\n\")\n",
    "\n",
    "file.close()\n"
   ]
  },
  {
   "cell_type": "code",
   "execution_count": null,
   "metadata": {},
   "outputs": [],
   "source": [
    "#plot samples \n",
    "    psi = plot_inverse_samples(circ_samples,inv=False)\n",
    "    plt.plot([*range(2**len_a)],psi)\n",
    "    plt.savefig(\"psi_circmps.png\")\n",
    "    for i in range(2**len_a):\n",
    "        if psi[i] != 0:\n",
    "            print(i,psi[i])\n",
    "\n",
    "    print(\"succes measurment path\",sh.success_prob_measurement_patch(psi,x,N))"
   ]
  }
 ],
 "metadata": {
  "kernelspec": {
   "display_name": "Python 3",
   "language": "python",
   "name": "python3"
  },
  "language_info": {
   "codemirror_mode": {
    "name": "ipython",
    "version": 3
   },
   "file_extension": ".py",
   "mimetype": "text/x-python",
   "name": "python",
   "nbconvert_exporter": "python",
   "pygments_lexer": "ipython3",
   "version": "3.10.6"
  },
  "orig_nbformat": 4
 },
 "nbformat": 4,
 "nbformat_minor": 2
}
