{
 "cells": [
  {
   "cell_type": "code",
   "execution_count": 2,
   "metadata": {},
   "outputs": [],
   "source": [
    "import numpy_helpers as nph\n",
    "import numpy as np\n",
    "import numpy.linalg as la"
   ]
  },
  {
   "cell_type": "code",
   "execution_count": 3,
   "metadata": {},
   "outputs": [
    {
     "name": "stdout",
     "output_type": "stream",
     "text": [
      "[[ 1.00000000e+00+0.00000000e+00j -4.68375339e-17+0.00000000e+00j\n",
      "  -1.38777878e-17+0.00000000e+00j  6.93889390e-17-1.38777878e-17j]\n",
      " [-4.68375339e-17+0.00000000e+00j  1.00000000e+00+0.00000000e+00j\n",
      "   1.24900090e-16+1.94289029e-16j -1.94289029e-16+2.22044605e-16j]\n",
      " [-1.38777878e-17+0.00000000e+00j  1.24900090e-16-1.94289029e-16j\n",
      "   1.00000000e+00+0.00000000e+00j  5.55111512e-17+5.55111512e-17j]\n",
      " [ 6.93889390e-17+1.38777878e-17j -1.94289029e-16-2.22044605e-16j\n",
      "   5.55111512e-17-5.55111512e-17j  1.00000000e+00+0.00000000e+00j]]\n"
     ]
    }
   ],
   "source": [
    "def get_random_unitary(d):\n",
    "    a = np.random.normal(size=(d,d))+1j*np.random.normal(size=(d,d))\n",
    "    q,r = np.linalg.qr(a)\n",
    "    return q\n",
    "\n",
    "\n",
    "q = get_random_unitary(4)\n",
    "print(np.matmul(q.conj().T,q))"
   ]
  },
  {
   "cell_type": "code",
   "execution_count": 36,
   "metadata": {},
   "outputs": [
    {
     "name": "stdout",
     "output_type": "stream",
     "text": [
      "5.656854249492381 norm of singular values\n",
      "(2, 2, 2, 2, 2, 2, 4) u shape\n",
      "5.65685424949238 uu as vector norm\n",
      "(2, 2, 2, 2, 2, 2) uu  \n",
      " [[[[[[-1.41421356  0.        ]\n",
      "     [ 0.          0.        ]]\n",
      "\n",
      "    [[ 0.         -1.41421356]\n",
      "     [ 0.          0.        ]]]\n",
      "\n",
      "\n",
      "   [[[-1.41421356  0.        ]\n",
      "     [ 0.          0.        ]]\n",
      "\n",
      "    [[ 0.         -1.41421356]\n",
      "     [ 0.          0.        ]]]]\n",
      "\n",
      "\n",
      "\n",
      "  [[[[-1.41421356  0.        ]\n",
      "     [ 0.          0.        ]]\n",
      "\n",
      "    [[ 0.         -1.41421356]\n",
      "     [ 0.          0.        ]]]\n",
      "\n",
      "\n",
      "   [[[-1.41421356  0.        ]\n",
      "     [ 0.          0.        ]]\n",
      "\n",
      "    [[ 0.         -1.41421356]\n",
      "     [ 0.          0.        ]]]]]\n",
      "\n",
      "\n",
      "\n",
      "\n",
      " [[[[[ 0.          0.        ]\n",
      "     [-1.41421356  0.        ]]\n",
      "\n",
      "    [[ 0.          0.        ]\n",
      "     [ 0.         -1.41421356]]]\n",
      "\n",
      "\n",
      "   [[[ 0.          0.        ]\n",
      "     [-1.41421356  0.        ]]\n",
      "\n",
      "    [[ 0.          0.        ]\n",
      "     [ 0.         -1.41421356]]]]\n",
      "\n",
      "\n",
      "\n",
      "  [[[[ 0.          0.        ]\n",
      "     [-1.41421356  0.        ]]\n",
      "\n",
      "    [[ 0.          0.        ]\n",
      "     [ 0.         -1.41421356]]]\n",
      "\n",
      "\n",
      "   [[[ 0.          0.        ]\n",
      "     [-1.41421356  0.        ]]\n",
      "\n",
      "    [[ 0.          0.        ]\n",
      "     [ 0.         -1.41421356]]]]]]\n",
      "[[[[[[2. 0.]\n",
      "     [0. 0.]]\n",
      "\n",
      "    [[2. 0.]\n",
      "     [0. 0.]]]\n",
      "\n",
      "\n",
      "   [[[0. 0.]\n",
      "     [0. 0.]]\n",
      "\n",
      "    [[0. 0.]\n",
      "     [0. 0.]]]]\n",
      "\n",
      "\n",
      "\n",
      "  [[[[0. 2.]\n",
      "     [0. 0.]]\n",
      "\n",
      "    [[0. 2.]\n",
      "     [0. 0.]]]\n",
      "\n",
      "\n",
      "   [[[0. 0.]\n",
      "     [0. 0.]]\n",
      "\n",
      "    [[0. 0.]\n",
      "     [0. 0.]]]]]\n",
      "\n",
      "\n",
      "\n",
      "\n",
      " [[[[[0. 0.]\n",
      "     [0. 0.]]\n",
      "\n",
      "    [[0. 0.]\n",
      "     [0. 0.]]]\n",
      "\n",
      "\n",
      "   [[[0. 0.]\n",
      "     [2. 0.]]\n",
      "\n",
      "    [[0. 0.]\n",
      "     [2. 0.]]]]\n",
      "\n",
      "\n",
      "\n",
      "  [[[[0. 0.]\n",
      "     [0. 0.]]\n",
      "\n",
      "    [[0. 0.]\n",
      "     [0. 0.]]]\n",
      "\n",
      "\n",
      "   [[[0. 0.]\n",
      "     [0. 2.]]\n",
      "\n",
      "    [[0. 0.]\n",
      "     [0. 2.]]]]]]\n",
      "[[-0.93999845+0.01620568j  0.        +0.j         -0.14463621+0.30857843j\n",
      "   0.        +0.j        ]\n",
      " [ 0.        +0.j         -0.93999845+0.01620568j  0.        +0.j\n",
      "  -0.14463621+0.30857843j]\n",
      " [ 0.03640466+0.3388436j   0.        +0.j         -0.88361587-0.32106496j\n",
      "   0.        +0.j        ]\n",
      " [ 0.        +0.j          0.03640466+0.3388436j   0.        +0.j\n",
      "  -0.88361587-0.32106496j]] iq \n",
      " (4, 4)\n",
      "[[-0.93999845+0.01620568j -0.14463621+0.30857843j  0.        +0.j\n",
      "   0.        +0.j        ]\n",
      " [ 0.03640466+0.3388436j  -0.88361587-0.32106496j  0.        +0.j\n",
      "   0.        +0.j        ]\n",
      " [ 0.        +0.j          0.        +0.j         -0.93999845+0.01620568j\n",
      "  -0.14463621+0.30857843j]\n",
      " [ 0.        +0.j          0.        +0.j          0.03640466+0.3388436j\n",
      "  -0.88361587-0.32106496j]] ip \n",
      " (4, 4)\n"
     ]
    }
   ],
   "source": [
    "dims= 5\n",
    "q = np.eye(2**dims)#get_random_unitary(2**dims)\n",
    "q = q.reshape((2,)*2*dims)\n",
    "t = np.random.permutation(2*dims)\n",
    "q = np.transpose(q,t)\n",
    "#print(q,q.shape)\n",
    "u,s,v = nph.trunc_svd_before_index(q,6,2**8,cutoff=1e-8,norm=False)\n",
    "print(la.norm(s),\"norm of singular values\")\n",
    "print(u.shape,\"u shape\")\n",
    "uu = np.einsum('...k,k->...',u,s)\n",
    "print(la.norm(uu.reshape(-1)),\"uu as vector norm\")\n",
    "print(uu.shape,\"uu  \\n\",uu)\n",
    "print(np.matmul(uu,uu.conj().T))\n",
    "\n",
    "d = 2 \n",
    "q = get_random_unitary(2)\n",
    "qi = np.tensordot(q,np.eye(2),axes=0)\n",
    "t = [*range(0,2*d,2)]\n",
    "t.extend([*range(1,2*d,2)])\n",
    "qi = np.transpose(qi,t)\n",
    "qi = qi.reshape((2**d,)*2)\n",
    "print(qi,\"iq \\n\",qi.shape)\n",
    "\n",
    "iq = np.tensordot(np.eye(2),q,axes=0)\n",
    "iq = np.transpose(iq,t)\n",
    "iq = iq.reshape((2**d,)*2)\n",
    "print(iq,\"ip \\n\",iq.shape)\n",
    "\n"
   ]
  },
  {
   "cell_type": "code",
   "execution_count": 5,
   "metadata": {},
   "outputs": [
    {
     "name": "stdout",
     "output_type": "stream",
     "text": [
      "[[ 0  1  2  3]\n",
      " [ 4  5  6  7]\n",
      " [ 8  9 10 11]\n",
      " [12 13 14 15]]\n",
      "[[ 0  1  4  5]\n",
      " [ 2  3  6  7]\n",
      " [ 8  9 12 13]\n",
      " [10 11 14 15]]\n"
     ]
    }
   ],
   "source": [
    "matrix = np.array([*range(0,16)])\n",
    "print(matrix.reshape((4,4)))\n",
    "matrix = matrix.reshape((2,)*4)\n",
    "matrix = np.transpose(matrix,[0,2,1,3])\n",
    "print(matrix.reshape((4,4)))\n"
   ]
  },
  {
   "cell_type": "code",
   "execution_count": 6,
   "metadata": {},
   "outputs": [
    {
     "name": "stdout",
     "output_type": "stream",
     "text": [
      "[[ 0.        +0.j         -0.70710678+0.70710678j]\n",
      " [ 0.70710678-0.70710678j  0.        +0.j        ]]\n"
     ]
    }
   ],
   "source": [
    "H = np.array([[1,1],[1,-1]])/np.sqrt(2)\n",
    "Ri = np.array([[1,0],[0,1j]])\n",
    "Commutator = np.matmul(H,Ri)-np.matmul(Ri,H)\n",
    "print(Commutator)"
   ]
  },
  {
   "cell_type": "code",
   "execution_count": 7,
   "metadata": {},
   "outputs": [
    {
     "name": "stdout",
     "output_type": "stream",
     "text": [
      "[[0.+0.j 0.+0.j 0.+0.j 0.+0.j]\n",
      " [0.+0.j 0.+0.j 0.+0.j 0.+0.j]\n",
      " [0.+0.j 0.+0.j 0.+0.j 0.+0.j]\n",
      " [0.+0.j 0.+0.j 0.+0.j 0.+0.j]]\n"
     ]
    }
   ],
   "source": [
    "R = np.array([[1,0,0,0],[0,1,0,0],[0,0,1,0],[0,0,0,1j]]).reshape((2,2,2,2)).transpose((0,2,1,3))\n",
    "circuit = np.einsum('ijkl,jm->imkl',R,H)\n",
    "circuit = np.einsum('mk,ijkl->ijml',H,circuit)\n",
    "circuit = circuit.transpose((0,2,1,3))\n",
    "a = circuit.reshape((4,4))\n",
    "\n",
    "\n",
    "R = np.array([[1,0,0,0],[0,1,0,0],[0,0,1,0],[0,0,0,1j]]).reshape((2,2,2,2)).transpose((0,2,1,3))\n",
    "circuit = np.einsum('ilkj,jm->kmil',R,H)\n",
    "circuit = np.einsum('mk,ijkl->ijml',H,circuit)\n",
    "circuit = circuit.transpose((0,2,1,3))\n",
    "b = circuit.reshape((4,4))\n",
    "print(a-b)\n",
    "\n"
   ]
  },
  {
   "cell_type": "code",
   "execution_count": 8,
   "metadata": {},
   "outputs": [],
   "source": [
    "U = get_random_unitary(4)\n"
   ]
  }
 ],
 "metadata": {
  "kernelspec": {
   "display_name": "Python 3",
   "language": "python",
   "name": "python3"
  },
  "language_info": {
   "codemirror_mode": {
    "name": "ipython",
    "version": 3
   },
   "file_extension": ".py",
   "mimetype": "text/x-python",
   "name": "python",
   "nbconvert_exporter": "python",
   "pygments_lexer": "ipython3",
   "version": "3.10.6"
  },
  "orig_nbformat": 4
 },
 "nbformat": 4,
 "nbformat_minor": 2
}
