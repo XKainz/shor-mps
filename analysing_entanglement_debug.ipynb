{
 "cells": [
  {
   "cell_type": "code",
   "execution_count": 1,
   "metadata": {},
   "outputs": [],
   "source": [
    "from analysing_entanglement import *\n",
    "import os\n",
    "import pickle \n",
    "import numpy as np\n",
    "from qm_shors_algorithm import *\n",
    "import Gates as gts\n",
    "import shor_helpers as sh\n",
    "import copy\n",
    "from tim import Tim\n",
    "import matplotlib.pyplot as plt\n",
    "import numpy_helpers as nph\n",
    "\n"
   ]
  },
  {
   "cell_type": "code",
   "execution_count": 2,
   "metadata": {},
   "outputs": [],
   "source": [
    "#pickle_element = get_pickle_element(2,85,2**13)"
   ]
  },
  {
   "cell_type": "code",
   "execution_count": 3,
   "metadata": {},
   "outputs": [
    {
     "data": {
      "text/plain": [
       "'\\n\\n#collect all N and x values calculated so far\\nN_values = []\\nx_values = []\\npath_to_pickles = \"/space/ge65kox/BA/pickles/analysing_entanglement_wo_measurement/\"\\n#for all files in folder\\ni = 0\\nfor file in os.listdir(path_to_pickles):\\n    if file.endswith(\".pkl\"):\\n        #unpickle file\\n        pickle_in = open(path_to_pickles+file,\"rb\")\\n        pickle_element = pickle.load(pickle_in)\\n        #collect N and x values\\n        N = [pickle_element[i].N for i in range(len(pickle_element))]\\n        x = [pickle_element[i].x for i in range(len(pickle_element))]\\n        print(len(N))\\n        N_values += N\\n        x_values += x\\n        i += 1\\n\\n#dictionary with N and x\\npickle_dict = {\"N\":N_values,\"x\":x_values}\\n#save dictionary\\npickle_out = open(\"/space/ge65kox/BA/pickles/\"+\"N_x_values.pkl\",\"wb\")\\npickle.dump(pickle_dict,pickle_out)\\n'"
      ]
     },
     "execution_count": 3,
     "metadata": {},
     "output_type": "execute_result"
    }
   ],
   "source": [
    "'''\n",
    "\n",
    "#collect all N and x values calculated so far\n",
    "N_values = []\n",
    "x_values = []\n",
    "path_to_pickles = \"/space/ge65kox/BA/pickles/analysing_entanglement_wo_measurement/\"\n",
    "#for all files in folder\n",
    "i = 0\n",
    "for file in os.listdir(path_to_pickles):\n",
    "    if file.endswith(\".pkl\"):\n",
    "        #unpickle file\n",
    "        pickle_in = open(path_to_pickles+file,\"rb\")\n",
    "        pickle_element = pickle.load(pickle_in)\n",
    "        #collect N and x values\n",
    "        N = [pickle_element[i].N for i in range(len(pickle_element))]\n",
    "        x = [pickle_element[i].x for i in range(len(pickle_element))]\n",
    "        print(len(N))\n",
    "        N_values += N\n",
    "        x_values += x\n",
    "        i += 1\n",
    "\n",
    "#dictionary with N and x\n",
    "pickle_dict = {\"N\":N_values,\"x\":x_values}\n",
    "#save dictionary\n",
    "pickle_out = open(\"/space/ge65kox/BA/pickles/\"+\"N_x_values.pkl\",\"wb\")\n",
    "pickle.dump(pickle_dict,pickle_out)\n",
    "'''\n",
    "\n"
   ]
  },
  {
   "cell_type": "code",
   "execution_count": 4,
   "metadata": {},
   "outputs": [
    {
     "data": {
      "text/plain": [
       "'\\n#create on large pickle of all files\\npickle_objs = []\\npath_to_pickles = \"/space/ge65kox/BA/pickles/analysing_entanglement_wo_measurement/\"\\ni = 0\\nfor file in os.listdir(path_to_pickles):\\n    if file.endswith(\".pkl\"):\\n        pickle_in = open(path_to_pickles+file,\"rb\")\\n        pickle_element = pickle.load(pickle_in)\\n        pickle_objs += pickle_element\\n        i += 1\\nprint(i)\\npickle_out = open(\"/space/ge65kox/BA/pickles/\"+\"ana_ent_objs_wo_measurement.pkl\",\"wb\")\\npickle.dump(pickle_objs,pickle_out)\\n'"
      ]
     },
     "execution_count": 4,
     "metadata": {},
     "output_type": "execute_result"
    }
   ],
   "source": [
    "'''\n",
    "#create on large pickle of all files\n",
    "pickle_objs = []\n",
    "path_to_pickles = \"/space/ge65kox/BA/pickles/analysing_entanglement_wo_measurement/\"\n",
    "i = 0\n",
    "for file in os.listdir(path_to_pickles):\n",
    "    if file.endswith(\".pkl\"):\n",
    "        pickle_in = open(path_to_pickles+file,\"rb\")\n",
    "        pickle_element = pickle.load(pickle_in)\n",
    "        pickle_objs += pickle_element\n",
    "        i += 1\n",
    "print(i)\n",
    "pickle_out = open(\"/space/ge65kox/BA/pickles/\"+\"ana_ent_objs_wo_measurement.pkl\",\"wb\")\n",
    "pickle.dump(pickle_objs,pickle_out)\n",
    "'''\n",
    "\n"
   ]
  },
  {
   "cell_type": "code",
   "execution_count": 5,
   "metadata": {},
   "outputs": [
    {
     "name": "stdout",
     "output_type": "stream",
     "text": [
      "N 85\n",
      "x 2\n",
      "cx_gate (2, 2, 2, 2, 2, 2, 2, 2, 2, 2, 2, 2, 2, 2, 2, 2)\n",
      "MPS initialized in 0.0011038780212402344\n",
      "MPO applied in 0.008888721466064453\n",
      "SWAP gates applied in 0.005663633346557617\n",
      "MPO applied in 0.009198188781738281\n",
      "SWAP gates applied in 0.0051422119140625\n",
      "MPO applied in 0.009143352508544922\n",
      "SWAP gates applied in 0.004872798919677734\n",
      "MPO applied in 0.009069681167602539\n",
      "SWAP gates applied in 0.004512310028076172\n",
      "MPO applied in 0.008867502212524414\n",
      "SWAP gates applied in 0.004250526428222656\n",
      "MPO applied in 0.006319761276245117\n",
      "SWAP gates applied in 0.001996755599975586\n",
      "MPO applied in 0.0069828033447265625\n",
      "SWAP gates applied in 0.0025255680084228516\n",
      "MPO applied in 0.0068721771240234375\n",
      "SWAP gates applied in 0.002240419387817383\n",
      "MPO applied in 0.006963968276977539\n",
      "SWAP gates applied in 0.0019791126251220703\n",
      "MPO applied in 0.006866931915283203\n",
      "SWAP gates applied in 0.001979351043701172\n",
      "MPO applied in 0.005327463150024414\n",
      "SWAP gates applied in 0.0009951591491699219\n",
      "MPO applied in 0.004584074020385742\n",
      "SWAP gates applied in 0.0012197494506835938\n",
      "MPO applied in 0.0046465396881103516\n",
      "SWAP gates applied in 0.0008442401885986328\n",
      "MPO applied in 0.0045566558837890625\n",
      "SWAP gates applied in 0.0007739067077636719\n",
      "MPO applied in 0.005187511444091797\n",
      "SWAP gates applied in 0.0004999637603759766\n",
      "MPO applied in 0.007244110107421875\n",
      "SWAP gates applied in 0.00037360191345214844\n",
      "MPO applied in 0.0061817169189453125\n",
      "SWAP gates applied in 0.00018525123596191406\n",
      "Control U gates applied in 0.16062188148498535\n",
      "Total time before inverse Fourier transform 0.16174602508544922\n",
      "8 Maximum bond dimension before fourier and before measurement\n",
      "1 l\n",
      "(8, 8) (8, 2, 7)\n",
      "2 l\n",
      "(8, 7) (7, 2, 6)\n",
      "3 l\n",
      "(8, 6) (6, 2, 5)\n",
      "4 l\n",
      "(8, 5) (5, 2, 4)\n",
      "5 l\n",
      "(8, 4) (4, 2, 2)\n",
      "6 l\n",
      "(8, 2) (2, 2, 1)\n",
      "1 Maximum bond dimension after collapse U\n",
      "collapse U 0.00545501708984375\n"
     ]
    },
    {
     "data": {
      "text/plain": [
       "0.00545501708984375"
      ]
     },
     "execution_count": 5,
     "metadata": {},
     "output_type": "execute_result"
    }
   ],
   "source": [
    "x=2\n",
    "N=85\n",
    "print(\"N\",N)\n",
    "print(\"x\",x)\n",
    "xi=2**13\n",
    "n_samples = 1000\n",
    "len_a = 2*int(np.ceil(np.log2(N)))+3\n",
    "cx_mpos = gts.cx_pow_2k_mod_N_mpo_from_fatU(N,x,len_a,xi)\n",
    "\n",
    "mps,len_a,tim_before_fourier = get_shor_mpo(N,x,xi,cx_mpos)\n",
    "#mps , len_a, tim_before_fourier = get_shor_fat(N,x,xi)\n",
    "\n",
    "schmidt_values_mpo = cx_mpos[0].get_schmidt_values_all_sites()\n",
    "\n",
    "schmidt_values_before_fourier_mpo = mps.get_schmidt_values_all_sites()\n",
    "print(mps.maximum_bond_dim(),\"Maximum bond dimension before fourier and before measurement\")\n",
    "entanglement_entropy_before_fourier_mpo = mps.get_entanglement_all_sites()\n",
    "\n",
    "circmps_mpo = mps\n",
    "mpomps = copy.deepcopy(circmps_mpo)\n",
    "\n",
    "tim_measurement = tim.Tim()\n",
    "measurement_mps = circmps_mpo.collapse_subspace(len_a,circmps_mpo.L)\n",
    "\n",
    "print(measurement_mps.maximum_bond_dim(),\"Maximum bond dimension after collapse U\")\n",
    "schmidt_values_measurement_before_fourier_mpo = measurement_mps.get_schmidt_values_all_sites()\n",
    "entanglement_entropy_measurement_before_fourier_mpo = measurement_mps.get_entanglement_all_sites()\n",
    "tim_measurement.print_since_last(\"collapse U\")\n"
   ]
  },
  {
   "cell_type": "code",
   "execution_count": 6,
   "metadata": {},
   "outputs": [
    {
     "data": {
      "image/png": "[encoded data removed]",
      "text/plain": [
       "<Figure size 1080x504 with 1 Axes>"
      ]
     },
     "metadata": {
      "needs_background": "light"
     },
     "output_type": "display_data"
    },
    {
     "data": {
      "image/png": "[encoded data removed]",
      "text/plain": [
       "<Figure size 1080x504 with 1 Axes>"
      ]
     },
     "metadata": {
      "needs_background": "light"
     },
     "output_type": "display_data"
    }
   ],
   "source": [
    "#plot length of schmidt values accross sites\n",
    "circmps_mpo.plot_bond_dims()\n",
    "#measurement_mps.into_canonical_form(up_down='up')\n",
    "measurement_mps.plot_bond_dims()"
   ]
  },
  {
   "cell_type": "code",
   "execution_count": 7,
   "metadata": {},
   "outputs": [
    {
     "name": "stdout",
     "output_type": "stream",
     "text": [
      "N 85\n",
      "x 2\n",
      "cx_gate (2, 2, 2, 2, 2, 2, 2, 2, 2, 2, 2, 2, 2, 2, 2, 2)\n",
      "MPSU created in 0.0003638267517089844\n",
      "Hadamards applied in 0.0012128353118896484\n",
      "Control U gates created in 0.007965803146362305\n",
      "Control U 0 gate applied in 0.0014178752899169922\n",
      "SWAP gates applied in 0.005649566650390625\n",
      "Control U 1 gate applied in 0.0009560585021972656\n",
      "SWAP gates applied in 0.005211830139160156\n",
      "Control U 2 gate applied in 0.0009398460388183594\n",
      "SWAP gates applied in 0.0048639774322509766\n",
      "Control U 3 gate applied in 0.0016484260559082031\n",
      "SWAP gates applied in 0.00455927848815918\n",
      "Control U 4 gate applied in 0.0009586811065673828\n",
      "SWAP gates applied in 0.004289388656616211\n",
      "Control U 5 gate applied in 0.0009477138519287109\n",
      "SWAP gates applied in 0.003875255584716797\n",
      "Control U 6 gate applied in 0.0009617805480957031\n",
      "SWAP gates applied in 0.003620624542236328\n",
      "Control U 7 gate applied in 0.0009427070617675781\n",
      "SWAP gates applied in 0.0032660961151123047\n",
      "Control U 8 gate applied in 0.0009455680847167969\n",
      "SWAP gates applied in 0.0029463768005371094\n",
      "Control U 9 gate applied in 0.0009527206420898438\n",
      "SWAP gates applied in 0.002666473388671875\n",
      "Control U 10 gate applied in 0.0009484291076660156\n",
      "SWAP gates applied in 0.0023288726806640625\n",
      "Control U 11 gate applied in 0.0009510517120361328\n",
      "SWAP gates applied in 0.0020003318786621094\n",
      "Control U 12 gate applied in 0.000946044921875\n",
      "SWAP gates applied in 0.0017158985137939453\n",
      "Control U 13 gate applied in 0.0009369850158691406\n",
      "SWAP gates applied in 0.001373291015625\n",
      "Control U 14 gate applied in 0.0009489059448242188\n",
      "SWAP gates applied in 0.0010902881622314453\n",
      "Control U 15 gate applied in 0.005208492279052734\n",
      "SWAP gates applied in 0.0007817745208740234\n",
      "Control U 16 gate applied in 0.0011518001556396484\n",
      "SWAP gates applied in 0.00042128562927246094\n",
      "Total time for applying gates all fat U gates 0.08283400535583496\n",
      "Total time before inverse Fourier transform 0.08316278457641602\n",
      "4 Maximum bond dimension before fourier and before measurement\n",
      "(1.0000000000000002+0j) total probability\n",
      "1 Maximum bond dimension after collapse U\n",
      "collapse U 0.0073091983795166016\n"
     ]
    },
    {
     "data": {
      "text/plain": [
       "0.0073091983795166016"
      ]
     },
     "execution_count": 7,
     "metadata": {},
     "output_type": "execute_result"
    }
   ],
   "source": [
    "x=2\n",
    "N=85\n",
    "xi=2**13\n",
    "print(\"N\",N)\n",
    "print(\"x\",x)\n",
    "n_samples = 1000\n",
    "len_a = 2*int(np.ceil(np.log2(N)))+3\n",
    "cx_mpos = gts.cx_pow_2k_mod_N_mpo_from_fatU(N,x,len_a,xi)\n",
    "\n",
    "#mps,len_a,tim_before_fourier = get_shor_mpo(N,x,xi,cx_mpos)\n",
    "mps , len_a, tim_before_fourier = get_shor_fat(N,x,xi)\n",
    "\n",
    "schmidt_values_mpo = cx_mpos[0].get_schmidt_values_all_sites()\n",
    "\n",
    "schmidt_values_before_fourier = mps.get_schmidt_values_all_sites()\n",
    "print(mps.maximum_bond_dim(),\"Maximum bond dimension before fourier and before measurement\")\n",
    "entanglement_entropy_before_fourier = mps.get_entanglement_all_sites()\n",
    "\n",
    "circmps = mps\n",
    "mpomps = copy.deepcopy(circmps)\n",
    "\n",
    "tim_measurement = tim.Tim()\n",
    "measurement_mps = circmps.collapse_U()\n",
    "\n",
    "print(measurement_mps.maximum_bond_dim(),\"Maximum bond dimension after collapse U\")\n",
    "schmidt_values_measurement_before_fourier = measurement_mps.get_schmidt_values_all_sites()\n",
    "entanglement_entropy_measurement_before_fourier = measurement_mps.get_entanglement_all_sites()\n",
    "tim_measurement.print_since_last(\"collapse U\")"
   ]
  }
 ],
 "metadata": {
  "kernelspec": {
   "display_name": "Python 3",
   "language": "python",
   "name": "python3"
  },
  "language_info": {
   "codemirror_mode": {
    "name": "ipython",
    "version": 3
   },
   "file_extension": ".py",
   "mimetype": "text/x-python",
   "name": "python",
   "nbconvert_exporter": "python",
   "pygments_lexer": "ipython3",
   "version": "3.10.6"
  },
  "orig_nbformat": 4
 },
 "nbformat": 4,
 "nbformat_minor": 2
}
