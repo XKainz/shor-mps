{
 "cells": [
  {
   "cell_type": "code",
   "execution_count": 4,
   "metadata": {},
   "outputs": [],
   "source": [
    "from analysing_entanglement import *\n",
    "import os\n",
    "import pickle\n",
    "\n"
   ]
  },
  {
   "cell_type": "code",
   "execution_count": 3,
   "metadata": {},
   "outputs": [
    {
     "name": "stdout",
     "output_type": "stream",
     "text": [
      "N 975\n",
      "x 787\n",
      "MPSU created in 0.0001804828643798828\n",
      "Hadamards applied in 0.000980377197265625\n",
      "Control U gates created in 2.550908327102661\n",
      "Control U 0 gate applied in 0.027391910552978516\n",
      "SWAP gates applied in 0.00750422477722168\n",
      "Control U 1 gate applied in 0.028552532196044922\n",
      "SWAP gates applied in 0.008534431457519531\n",
      "Control U 2 gate applied in 0.032943010330200195\n",
      "SWAP gates applied in 0.009833097457885742\n",
      "Control U 3 gate applied in 0.034813642501831055\n",
      "SWAP gates applied in 0.011974811553955078\n",
      "Control U 4 gate applied in 0.03669261932373047\n",
      "SWAP gates applied in 0.014385461807250977\n",
      "Control U 5 gate applied in 0.03643488883972168\n",
      "SWAP gates applied in 0.01287078857421875\n",
      "Control U 6 gate applied in 0.03620147705078125\n",
      "SWAP gates applied in 0.012567996978759766\n",
      "Control U 7 gate applied in 0.04615974426269531\n",
      "SWAP gates applied in 0.011604785919189453\n",
      "Control U 8 gate applied in 0.036187171936035156\n",
      "SWAP gates applied in 0.01127171516418457\n",
      "Control U 9 gate applied in 0.03473782539367676\n",
      "SWAP gates applied in 0.010375261306762695\n",
      "Control U 10 gate applied in 0.03619122505187988\n",
      "SWAP gates applied in 0.009724140167236328\n",
      "Control U 11 gate applied in 0.03628039360046387\n",
      "SWAP gates applied in 0.008875608444213867\n",
      "Control U 12 gate applied in 0.04160642623901367\n",
      "SWAP gates applied in 0.007957696914672852\n",
      "Control U 13 gate applied in 0.037680864334106445\n",
      "SWAP gates applied in 0.007424831390380859\n",
      "Control U 14 gate applied in 0.03533315658569336\n",
      "SWAP gates applied in 0.006671428680419922\n",
      "Control U 15 gate applied in 0.03595709800720215\n",
      "SWAP gates applied in 0.005934000015258789\n",
      "Control U 16 gate applied in 0.036188602447509766\n",
      "SWAP gates applied in 0.005128383636474609\n",
      "Control U 17 gate applied in 0.036519765853881836\n",
      "SWAP gates applied in 0.004426479339599609\n",
      "Control U 18 gate applied in 0.037590980529785156\n",
      "SWAP gates applied in 0.0037560462951660156\n",
      "Control U 19 gate applied in 0.0360560417175293\n",
      "SWAP gates applied in 0.002970457077026367\n",
      "Control U 20 gate applied in 0.0361940860748291\n",
      "SWAP gates applied in 0.0021779537200927734\n",
      "Control U 21 gate applied in 0.03734326362609863\n",
      "SWAP gates applied in 0.0016629695892333984\n",
      "Control U 22 gate applied in 0.045130252838134766\n",
      "SWAP gates applied in 0.0005054473876953125\n",
      "Total time for applying gates all fat U gates 3.5693790912628174\n",
      "Total time before inverse Fourier transform 3.569718599319458\n",
      "30 Maximum bond dimension before fourier and before measurement\n",
      "(1+0j) total probability\n",
      "15 Maximum bond dimension after collapse U\n",
      "collapse U 0.014899253845214844\n",
      "fourier transform measurment 1.3152024745941162\n",
      "27 Maximum bond dimension after fourier\n",
      "sampling measurement 1.3119986057281494\n",
      "p_success_measurement 0.462\n",
      "fourier transform circuit 4.227897882461548\n",
      "436 Maximum bond dimension Circuit\n",
      "p_success_fourier_circuit 0.487\n",
      "sampling fourier transform circuit 8.804452896118164\n",
      "23 len_a 23 MPS.L\n",
      "fourier transform mpo 2.0836312770843506\n",
      "39 Maximum bond dimension mpo mps\n",
      "p_success_fourier_mpo 0.494\n",
      "sampling fourier transform mpo 1.4564526081085205\n"
     ]
    }
   ],
   "source": [
    "pickle_element = get_pickle_element(787,975,2**13)"
   ]
  },
  {
   "cell_type": "code",
   "execution_count": 22,
   "metadata": {},
   "outputs": [
    {
     "name": "stdout",
     "output_type": "stream",
     "text": [
      "75\n",
      "5\n",
      "9\n",
      "37\n",
      "195\n",
      "83\n",
      "6\n",
      "83\n",
      "83\n"
     ]
    }
   ],
   "source": [
    "#collect all N and x values calculated so far\n",
    "N_values = []\n",
    "x_values = []\n",
    "path_to_pickles = \"/space/ge65kox/BA/pickles/analysing_entanglement_wo_measurement/\"\n",
    "#for all files in folder\n",
    "i = 0\n",
    "for file in os.listdir(path_to_pickles):\n",
    "    if file.endswith(\".pkl\"):\n",
    "        #unpickle file\n",
    "        pickle_in = open(path_to_pickles+file,\"rb\")\n",
    "        pickle_element = pickle.load(pickle_in)\n",
    "        #collect N and x values\n",
    "        N = [pickle_element[i].N for i in range(len(pickle_element))]\n",
    "        x = [pickle_element[i].x for i in range(len(pickle_element))]\n",
    "        print(len(N))\n",
    "        N_values += N\n",
    "        x_values += x\n",
    "        i += 1\n",
    "\n",
    "#dictionary with N and x\n",
    "pickle_dict = {\"N\":N_values,\"x\":x_values}\n",
    "#save dictionary\n",
    "pickle_out = open(\"/space/ge65kox/BA/pickles/\"+\"N_x_values.pkl\",\"wb\")\n",
    "pickle.dump(pickle_dict,pickle_out)\n",
    "\n",
    "\n"
   ]
  },
  {
   "cell_type": "code",
   "execution_count": 18,
   "metadata": {},
   "outputs": [
    {
     "name": "stdout",
     "output_type": "stream",
     "text": [
      "6\n"
     ]
    }
   ],
   "source": [
    "#create on large pickle of all files\n",
    "pickle_objs = []\n",
    "path_to_pickles = \"/space/ge65kox/BA/pickles/analysing_entanglement_wo_measurement/\"\n",
    "i = 0\n",
    "for file in os.listdir(path_to_pickles):\n",
    "    if file.endswith(\".pkl\"):\n",
    "        pickle_in = open(path_to_pickles+file,\"rb\")\n",
    "        pickle_element = pickle.load(pickle_in)\n",
    "        pickle_objs += pickle_element\n",
    "        i += 1\n",
    "print(i)\n",
    "pickle_out = open(\"/space/ge65kox/BA/pickles/\"+\"ana_ent_objs_wo_measurement.pkl\",\"wb\")\n",
    "pickle.dump(pickle_objs,pickle_out)\n",
    "\n"
   ]
  }
 ],
 "metadata": {
  "kernelspec": {
   "display_name": "Python 3",
   "language": "python",
   "name": "python3"
  },
  "language_info": {
   "codemirror_mode": {
    "name": "ipython",
    "version": 3
   },
   "file_extension": ".py",
   "mimetype": "text/x-python",
   "name": "python",
   "nbconvert_exporter": "python",
   "pygments_lexer": "ipython3",
   "version": "3.10.6"
  },
  "orig_nbformat": 4
 },
 "nbformat": 4,
 "nbformat_minor": 2
}
