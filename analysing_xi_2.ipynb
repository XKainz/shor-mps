{
 "cells": [
  {
   "cell_type": "code",
   "execution_count": 156,
   "metadata": {},
   "outputs": [],
   "source": [
    "import pickle\n",
    "from analysing_xi_2 import *\n",
    "import matplotlib.pyplot as plt\n",
    "import numpy as np\n",
    "path_to_pickles = \"/space/ge65kox/BA/pickles/analysing_xi_max/\"\n"
   ]
  },
  {
   "cell_type": "code",
   "execution_count": 157,
   "metadata": {},
   "outputs": [],
   "source": [
    "pickle_objs = pickle.load(open(path_to_pickles + \"xi_analysis_N_15_x_7.pkl\", \"rb\"))"
   ]
  },
  {
   "cell_type": "code",
   "execution_count": 158,
   "metadata": {},
   "outputs": [
    {
     "name": "stdout",
     "output_type": "stream",
     "text": [
      "(3, 18)\n",
      "(3, 18)\n",
      "(22, 18)\n"
     ]
    }
   ],
   "source": [
    "xi_mpo = [pickle_objs[i].xi_mpo for i in range(len(pickle_objs))]\n",
    "xi_mps = [pickle_objs[i].xi_mps for i in range(len(pickle_objs))]\n",
    "p_success_mpo = [pickle_objs[i].p_success_mpo for i in range(len(pickle_objs))]\n",
    "N=pickle_objs[0].N\n",
    "x=pickle_objs[0].x\n",
    "\n",
    "\n",
    "p_success_regular = p_success_mpo[0]\n",
    "p_success_mpo = np.array(p_success_mpo[1:])/p_success_regular\n",
    "xi_mpo = np.array(xi_mpo[1:])\n",
    "xi_mps = np.array(xi_mps[1:])\n",
    "\n",
    "shape = (np.max(xi_mps)-np.min(xi_mps)+1,np.max(xi_mpo)-np.min(xi_mpo)+1)\n",
    "p_success_mpo = np.flip(np.reshape(p_success_mpo, shape).T)\n",
    "xi_mpo = np.flip(np.reshape(xi_mpo, shape).T)\n",
    "xi_mps = np.flip(np.reshape(xi_mps, shape).T)\n",
    "\n",
    "print(xi_mps.shape)\n",
    "print(xi_mpo.shape)\n",
    "ez = 19\n",
    "p_success_mpo_extra_zeros = np.concatenate((np.zeros((ez, p_success_mpo.shape[1])),p_success_mpo),axis=0)\n",
    "print(p_success_mpo_extra_zeros.shape)\n",
    "\n",
    "\n",
    "\n",
    "\n",
    "\n",
    "\n"
   ]
  },
  {
   "cell_type": "code",
   "execution_count": 159,
   "metadata": {},
   "outputs": [
    {
     "name": "stdout",
     "output_type": "stream",
     "text": [
      "order:  4\n"
     ]
    }
   ],
   "source": [
    "#get number of prime factors\n",
    "def calculate_prime_factors(N):\n",
    "    prime_factors = []\n",
    "    while N % 2 == 0:\n",
    "        N = N // 2\n",
    "        prime_factors.append(2)\n",
    "        if N == 1:\n",
    "            return prime_factors\n",
    "    for factor in range(3, N + 1, 2):\n",
    "        while N % factor == 0:\n",
    "            N = N // factor\n",
    "            prime_factors.append(factor)\n",
    "            if N == 1:\n",
    "                return prime_factors\n",
    "\n",
    "#calculate the order of x^r mod N\n",
    "def calculate_order(x,N):\n",
    "    r = 1\n",
    "    while pow((int)(x),r,mod = (int)(N)) != 1:\n",
    "        r += 1\n",
    "    return r\n",
    "\n",
    "order = calculate_order(x,N)\n",
    "print(\"order: \", order)"
   ]
  },
  {
   "cell_type": "code",
   "execution_count": 160,
   "metadata": {},
   "outputs": [],
   "source": [
    "figsize= (9,5.625)"
   ]
  },
  {
   "cell_type": "code",
   "execution_count": 161,
   "metadata": {},
   "outputs": [
    {
     "data": {
      "image/png": "[encoded data removed]",
      "text/plain": [
       "<Figure size 648x405 with 2 Axes>"
      ]
     },
     "metadata": {
      "needs_background": "light"
     },
     "output_type": "display_data"
    }
   ],
   "source": [
    "fig, ax = plt.subplots(figsize=figsize)\n",
    "extent = [np.min(xi_mps) - 0.5, np.max(xi_mps) + 0.5, np.min(xi_mpo) - 0.5 - ez, np.max(xi_mpo) + 0.5]\n",
    "im = ax.imshow(p_success_mpo_extra_zeros, extent=extent, interpolation='none', origin=\"lower\", cmap=\"bwr\", vmin=0, vmax=1, aspect='auto')\n",
    "\n",
    "colorbar = fig.colorbar(im, ax=ax)\n",
    "colorbar.set_label(\"$p_{success}/p_{success\\chi_\\infty}$\", fontsize=20)\n",
    "ax.set_xlabel(\"$\\chi_{mps}$ ($N$=\"+str(N)+\",$x$= \"+str(x)+\"$r$= \"+str(order) +\")\", fontsize=20)\n",
    "ax.set_ylabel(\"$\\chi_{mpo}$\", fontsize=20)\n",
    "ax.set_xscale(\"log\")\n",
    "plt.savefig(\"pictures/xi_analysis_N_\"+str(N)+\"_x_\"+str(x)+\".pdf\")\n",
    "\n",
    "plt.show()\n"
   ]
  }
 ],
 "metadata": {
  "kernelspec": {
   "display_name": "Python 3",
   "language": "python",
   "name": "python3"
  },
  "language_info": {
   "codemirror_mode": {
    "name": "ipython",
    "version": 3
   },
   "file_extension": ".py",
   "mimetype": "text/x-python",
   "name": "python",
   "nbconvert_exporter": "python",
   "pygments_lexer": "ipython3",
   "version": "3.10.6"
  },
  "orig_nbformat": 4
 },
 "nbformat": 4,
 "nbformat_minor": 2
}
