{
 "cells": [
  {
   "cell_type": "code",
   "execution_count": 2,
   "metadata": {},
   "outputs": [],
   "source": [
    "from analysing_xi import *\n",
    "import numpy as np"
   ]
  },
  {
   "cell_type": "code",
   "execution_count": 3,
   "metadata": {},
   "outputs": [],
   "source": [
    "def get_analysing_xi_obj(N,x,xi_mpo,xi_mps):\n",
    "    print(\"N: \",N)\n",
    "    print(\"x: \",x)\n",
    "    print(\"xi_mpo: \",xi_mpo)\n",
    "    print(\"xi_mps: \",xi_mps)\n",
    "    print(\"this is the debug version of get_analysing_xi_obj\")\n",
    "    n_samples = 10**3\n",
    "    len_a = 2*int(np.ceil(np.log2(N)))+3\n",
    "\n",
    "    \n",
    "    cx_mpos, tim_create_mpos  = gts.cx_pow_2k_mod_N_mpo_mpo(N,x,len_a,xi_mpo)\n",
    "    \n",
    "\n",
    "    xi_max_in_mpos = [mpo.maximum_bond_dim() for mpo in cx_mpos]\n",
    "\n",
    "    cx_mpos[-1].plot_schmidt_values()\n",
    "\n",
    "    mps , len_a, tim_before_fourier = get_shor_mpo(N,x,xi_mps,cx_mpos)\n",
    "\n",
    "    psi = mps.measure_subspace(0,len_a)\n",
    "    print(np.sum(psi),\"total probability\")\n",
    "\n",
    "    tim_after_fourier = tim.Tim()\n",
    "    \n",
    "    mps = circ.fourier_transform_MPO(mps,len_a,inv=True)\n",
    "    xi_max_in_mps = mps.maximum_bond_dim()\n",
    "    \n",
    "    tim_after_fourier.print_since_last(\"Fourier transform\")\n",
    "\n",
    "    psi = mps.measure_subspace(0,len_a)\n",
    "    print(np.sum(psi),\"total probability\")\n",
    "\n",
    "    samples =  mps.sample_range(0,len_a,n_samples)\n",
    "\n",
    "    tim_after_fourier.print_since_last(\"Sampling\")\n",
    "\n",
    "    p_success_mpo = sh.success_prob_measurement_samples(samples,x,N,invert=True)\n",
    "    print(\"p_success_mpo: \",p_success_mpo)\n",
    "    \n",
    "    return analysing_xi_obj(N,\n",
    "                            x,\n",
    "                            xi_mpo,\n",
    "                            xi_mps,\n",
    "                            p_success_mpo,\n",
    "                            samples,\n",
    "                            tim_create_mpos,\n",
    "                            tim_before_fourier,\n",
    "                            tim_after_fourier,\n",
    "                            xi_max_in_mpos,\n",
    "                            xi_max_in_mps), psi"
   ]
  },
  {
   "cell_type": "code",
   "execution_count": null,
   "metadata": {},
   "outputs": [],
   "source": [
    "def get_analysing_xi_obj(N,x,xi_mpo,xi_mps):    \n",
    "    print(\"N: \",N)\n",
    "    print(\"x: \",x)\n",
    "    print(\"xi_mpo within object: \",xi_mpo)\n",
    "    print(\"xi_mps within object: \",xi_mps)\n",
    "    n_samples = 10**4\n",
    "    len_a = 2*int(np.ceil(np.log2(N)))+3\n",
    "\n",
    "    \n",
    "    cx_mpos, tim_create_mpos  = gts.cx_pow_2k_mod_N_mpo_mpo(N,x,len_a,xi_mpo)\n",
    "    \n",
    "\n",
    "    xi_max_in_mpos = [mpo.maximum_bond_dim() for mpo in cx_mpos]\n",
    "    xi_max_in_mpos_zip_up = [mpo.largest_xi_during_zip_up for mpo in cx_mpos]\n",
    "    \n",
    "\n",
    "    mps , len_a, tim_before_fourier = get_shor_mpo(N,x,xi_mps,cx_mpos)\n",
    "    xi_max_in_mps = mps.maximum_bond_dim()\n",
    "\n",
    "    tim_after_fourier = tim.Tim()\n",
    "    new = mps.collapse_subspace(len_a,mps.L)\n",
    "    tim_after_fourier.print_since_last(\"Collapse subspace\")\n",
    "\n",
    "    new = circ.fourier_transform_MPS(new,len_a,inv=True)\n",
    "    \n",
    "    tim_after_fourier.print_since_last(\"Fourier transform\")\n",
    "\n",
    "    samples =  new.sample_range(0,len_a,n_samples)\n",
    "\n",
    "    tim_after_fourier.print_since_last(\"Sampling\")\n",
    "\n",
    "    p_success_mpo = sh.success_prob_measurement_samples(samples,x,N,invert=False)\n",
    "    print(\"p_success_mpo: \",p_success_mpo)"
   ]
  },
  {
   "cell_type": "code",
   "execution_count": 20,
   "metadata": {},
   "outputs": [
    {
     "name": "stdout",
     "output_type": "stream",
     "text": [
      "N:  15\n",
      "x:  7\n",
      "xi_mpo:  18\n",
      "xi_mps:  16\n",
      "this is the debug version of get_analysing_xi_obj\n",
      "copy 7.867813110351562e-05\n",
      "merge 0.006384372711181641\n",
      "append 8.916854858398438e-05\n",
      "copy 0.0006794929504394531\n",
      "merge 0.013431787490844727\n",
      "append 0.00011396408081054688\n",
      "copy 0.00016045570373535156\n",
      "merge 0.01339578628540039\n",
      "append 0.00038051605224609375\n",
      "copy 9.512901306152344e-05\n",
      "merge 0.011565446853637695\n",
      "append 0.0003876686096191406\n",
      "copy 9.5367431640625e-05\n",
      "merge 0.011259078979492188\n",
      "append 0.0003578662872314453\n",
      "copy 8.916854858398438e-05\n",
      "merge 0.011267662048339844\n",
      "append 0.0003592967987060547\n",
      "copy 8.749961853027344e-05\n",
      "merge 0.011301040649414062\n",
      "append 0.00035691261291503906\n",
      "copy 8.845329284667969e-05\n",
      "merge 0.011093854904174805\n",
      "append 0.00035381317138671875\n",
      "copy 8.678436279296875e-05\n",
      "merge 0.009094953536987305\n",
      "append 0.0003619194030761719\n",
      "copy 8.845329284667969e-05\n",
      "merge 0.009057760238647461\n",
      "append 0.0003533363342285156\n",
      "total 0.0003097057342529297\n"
     ]
    },
    {
     "data": {
      "image/png": "[encoded data removed]",
      "text/plain": [
       "<Figure size 1080x504 with 1 Axes>"
      ]
     },
     "metadata": {
      "needs_background": "light"
     },
     "output_type": "display_data"
    },
    {
     "name": "stdout",
     "output_type": "stream",
     "text": [
      "MPS initialized in 0.0003230571746826172\n",
      "MPO applied in 0.0026671886444091797\n",
      "SWAP gates applied in 0.0013303756713867188\n",
      "MPO applied in 0.003100156784057617\n",
      "SWAP gates applied in 0.0012366771697998047\n",
      "MPO applied in 0.002118349075317383\n",
      "SWAP gates applied in 0.0011665821075439453\n",
      "MPO applied in 0.0021011829376220703\n",
      "SWAP gates applied in 0.0010156631469726562\n",
      "MPO applied in 0.002106904983520508\n",
      "SWAP gates applied in 0.0009036064147949219\n",
      "MPO applied in 0.0020585060119628906\n",
      "SWAP gates applied in 0.0008862018585205078\n",
      "MPO applied in 0.0021228790283203125\n",
      "SWAP gates applied in 0.0005381107330322266\n",
      "MPO applied in 0.0021829605102539062\n",
      "SWAP gates applied in 0.00042557716369628906\n",
      "MPO applied in 0.0021376609802246094\n",
      "SWAP gates applied in 0.0003120899200439453\n",
      "MPO applied in 0.0021843910217285156\n",
      "SWAP gates applied in 0.0008652210235595703\n",
      "MPO applied in 0.002112150192260742\n",
      "SWAP gates applied in 0.0002739429473876953\n",
      "Control U gates applied in 0.034978628158569336\n",
      "Total time before inverse Fourier transform 0.035323381423950195\n",
      "0.0 total probability\n",
      "11 len_a 15 MPS.L\n",
      "Fourier transform 0.04174399375915527\n",
      "0.0 total probability\n"
     ]
    },
    {
     "ename": "ValueError",
     "evalue": "probabilities do not sum to 1",
     "output_type": "error",
     "traceback": [
      "\u001b[0;31m---------------------------------------------------------------------------\u001b[0m",
      "\u001b[0;31mValueError\u001b[0m                                Traceback (most recent call last)",
      "\u001b[0;32m/tmp/ipykernel_1941460/966331585.py\u001b[0m in \u001b[0;36m<module>\u001b[0;34m\u001b[0m\n\u001b[0;32m----> 1\u001b[0;31m \u001b[0mana_obj\u001b[0m\u001b[0;34m,\u001b[0m \u001b[0mpsi\u001b[0m \u001b[0;34m=\u001b[0m  \u001b[0mget_analysing_xi_obj\u001b[0m\u001b[0;34m(\u001b[0m\u001b[0;36m15\u001b[0m\u001b[0;34m,\u001b[0m\u001b[0;36m7\u001b[0m\u001b[0;34m,\u001b[0m\u001b[0;36m18\u001b[0m\u001b[0;34m,\u001b[0m\u001b[0;36m16\u001b[0m\u001b[0;34m)\u001b[0m\u001b[0;34m\u001b[0m\u001b[0;34m\u001b[0m\u001b[0m\n\u001b[0m",
      "\u001b[0;32m/tmp/ipykernel_1941460/2641516360.py\u001b[0m in \u001b[0;36mget_analysing_xi_obj\u001b[0;34m(N, x, xi_mpo, xi_mps)\u001b[0m\n\u001b[1;32m     31\u001b[0m     \u001b[0mprint\u001b[0m\u001b[0;34m(\u001b[0m\u001b[0mnp\u001b[0m\u001b[0;34m.\u001b[0m\u001b[0msum\u001b[0m\u001b[0;34m(\u001b[0m\u001b[0mpsi\u001b[0m\u001b[0;34m)\u001b[0m\u001b[0;34m,\u001b[0m\u001b[0;34m\"total probability\"\u001b[0m\u001b[0;34m)\u001b[0m\u001b[0;34m\u001b[0m\u001b[0;34m\u001b[0m\u001b[0m\n\u001b[1;32m     32\u001b[0m \u001b[0;34m\u001b[0m\u001b[0m\n\u001b[0;32m---> 33\u001b[0;31m     \u001b[0msamples\u001b[0m \u001b[0;34m=\u001b[0m  \u001b[0mmps\u001b[0m\u001b[0;34m.\u001b[0m\u001b[0msample_range\u001b[0m\u001b[0;34m(\u001b[0m\u001b[0;36m0\u001b[0m\u001b[0;34m,\u001b[0m\u001b[0mlen_a\u001b[0m\u001b[0;34m,\u001b[0m\u001b[0mn_samples\u001b[0m\u001b[0;34m)\u001b[0m\u001b[0;34m\u001b[0m\u001b[0;34m\u001b[0m\u001b[0m\n\u001b[0m\u001b[1;32m     34\u001b[0m \u001b[0;34m\u001b[0m\u001b[0m\n\u001b[1;32m     35\u001b[0m     \u001b[0mtim_after_fourier\u001b[0m\u001b[0;34m.\u001b[0m\u001b[0mprint_since_last\u001b[0m\u001b[0;34m(\u001b[0m\u001b[0;34m\"Sampling\"\u001b[0m\u001b[0;34m)\u001b[0m\u001b[0;34m\u001b[0m\u001b[0;34m\u001b[0m\u001b[0m\n",
      "\u001b[0;32m/home/t30/kna/ge65kox/Bachelorarbeit/shor_mps/MPS.py\u001b[0m in \u001b[0;36msample_range\u001b[0;34m(self, i, j, n_samples)\u001b[0m\n\u001b[1;32m     87\u001b[0m                 \u001b[0mp\u001b[0m \u001b[0;34m=\u001b[0m \u001b[0mnp\u001b[0m\u001b[0;34m.\u001b[0m\u001b[0mdiagonal\u001b[0m\u001b[0;34m(\u001b[0m\u001b[0mdensity_matrix\u001b[0m\u001b[0;34m)\u001b[0m\u001b[0;34m\u001b[0m\u001b[0;34m\u001b[0m\u001b[0m\n\u001b[1;32m     88\u001b[0m                 \u001b[0mp\u001b[0m \u001b[0;34m=\u001b[0m \u001b[0mnp\u001b[0m\u001b[0;34m.\u001b[0m\u001b[0mreal_if_close\u001b[0m\u001b[0;34m(\u001b[0m\u001b[0mp\u001b[0m\u001b[0;34m,\u001b[0m\u001b[0mtol\u001b[0m\u001b[0;34m=\u001b[0m\u001b[0;36m10\u001b[0m\u001b[0;34m**\u001b[0m\u001b[0;36m4\u001b[0m\u001b[0;34m)\u001b[0m\u001b[0;34m\u001b[0m\u001b[0;34m\u001b[0m\u001b[0m\n\u001b[0;32m---> 89\u001b[0;31m                 \u001b[0mr\u001b[0m\u001b[0;34m[\u001b[0m\u001b[0mn\u001b[0m\u001b[0;34m]\u001b[0m \u001b[0;34m=\u001b[0m \u001b[0mnp\u001b[0m\u001b[0;34m.\u001b[0m\u001b[0mrandom\u001b[0m\u001b[0;34m.\u001b[0m\u001b[0mchoice\u001b[0m\u001b[0;34m(\u001b[0m\u001b[0;34m[\u001b[0m\u001b[0;36m0\u001b[0m\u001b[0;34m,\u001b[0m\u001b[0;36m1\u001b[0m\u001b[0;34m]\u001b[0m\u001b[0;34m,\u001b[0m\u001b[0mp\u001b[0m\u001b[0;34m=\u001b[0m\u001b[0mp\u001b[0m\u001b[0;34m)\u001b[0m\u001b[0;34m\u001b[0m\u001b[0;34m\u001b[0m\u001b[0m\n\u001b[0m\u001b[1;32m     90\u001b[0m                 \u001b[0mp_total\u001b[0m \u001b[0;34m*=\u001b[0m \u001b[0mp\u001b[0m\u001b[0;34m[\u001b[0m\u001b[0mr\u001b[0m\u001b[0;34m[\u001b[0m\u001b[0mn\u001b[0m\u001b[0;34m]\u001b[0m\u001b[0;34m]\u001b[0m\u001b[0;34m\u001b[0m\u001b[0;34m\u001b[0m\u001b[0m\n\u001b[1;32m     91\u001b[0m                 \u001b[0mcontracted_tensor\u001b[0m \u001b[0;34m=\u001b[0m \u001b[0mcontracted_tensor\u001b[0m\u001b[0;34m[\u001b[0m\u001b[0;34m:\u001b[0m\u001b[0;34m,\u001b[0m\u001b[0mr\u001b[0m\u001b[0;34m[\u001b[0m\u001b[0mn\u001b[0m\u001b[0;34m]\u001b[0m\u001b[0;34m,\u001b[0m\u001b[0;34m:\u001b[0m\u001b[0;34m]\u001b[0m\u001b[0;34m\u001b[0m\u001b[0;34m\u001b[0m\u001b[0m\n",
      "\u001b[0;32mmtrand.pyx\u001b[0m in \u001b[0;36mnumpy.random.mtrand.RandomState.choice\u001b[0;34m()\u001b[0m\n",
      "\u001b[0;31mValueError\u001b[0m: probabilities do not sum to 1"
     ]
    },
    {
     "data": {
      "text/plain": [
       "<Figure size 432x288 with 0 Axes>"
      ]
     },
     "metadata": {},
     "output_type": "display_data"
    }
   ],
   "source": [
    "ana_obj, psi =  get_analysing_xi_obj(15,7,18,16)"
   ]
  },
  {
   "cell_type": "code",
   "execution_count": 26,
   "metadata": {},
   "outputs": [
    {
     "name": "stdout",
     "output_type": "stream",
     "text": [
      "copy 6.866455078125e-05\n",
      "merge 0.005682706832885742\n",
      "append 4.887580871582031e-05\n",
      "copy 5.698204040527344e-05\n",
      "merge 0.01405191421508789\n",
      "append 0.00011277198791503906\n",
      "copy 0.0007414817810058594\n",
      "merge 0.013881206512451172\n",
      "append 8.940696716308594e-05\n",
      "copy 0.0006093978881835938\n",
      "merge 0.01277780532836914\n",
      "append 9.679794311523438e-05\n",
      "copy 0.0006394386291503906\n",
      "merge 0.012115240097045898\n",
      "append 0.0003857612609863281\n",
      "copy 8.916854858398438e-05\n",
      "merge 0.012100934982299805\n",
      "append 0.0003800392150878906\n",
      "copy 8.845329284667969e-05\n",
      "merge 0.012367963790893555\n",
      "append 0.00040531158447265625\n",
      "copy 9.226799011230469e-05\n",
      "merge 0.011977672576904297\n",
      "append 0.0003809928894042969\n",
      "copy 8.869171142578125e-05\n",
      "merge 0.00970602035522461\n",
      "append 0.00037932395935058594\n",
      "copy 8.7738037109375e-05\n",
      "merge 0.00974583625793457\n",
      "append 0.0003752708435058594\n",
      "total 0.0003235340118408203\n",
      "[0.00000000e+00+0.j 0.00000000e+00+0.j 0.00000000e+00+0.j\n",
      " 0.00000000e+00+0.j 0.00000000e+00+0.j 0.00000000e+00+0.j\n",
      " 0.00000000e+00+0.j 0.00000000e+00+0.j 0.00000000e+00+0.j\n",
      " 0.00000000e+00+0.j 0.00000000e+00+0.j 0.00000000e+00+0.j\n",
      " 0.00000000e+00+0.j 0.00000000e+00+0.j 0.00000000e+00+0.j\n",
      " 0.00000000e+00+0.j 2.39151440e-04+0.j 5.73210025e-29+0.j\n",
      " 9.49590356e-28+0.j 6.21983220e+00+0.j 1.14768946e-28+0.j\n",
      " 3.38612626e-29+0.j 9.77992865e+00+0.j 6.71164971e-28+0.j\n",
      " 3.12391933e-29+0.j 9.77992865e+00+0.j 3.41964249e-29+0.j\n",
      " 2.30418102e-29+0.j 6.21983220e+00+0.j 1.59461150e-29+0.j\n",
      " 9.33910364e-29+0.j 2.39151440e-04+0.j]\n"
     ]
    }
   ],
   "source": [
    "cx_mpos, tim_create_mpos  = gts.cx_pow_2k_mod_N_mpo_mpo(15,7,11,18)\n",
    "ten = cx_mpos[-1].get_contracted_tensor_in_readable_form()\n",
    "print(np.diag(np.matmul(ten,ten.conj().T)))\n"
   ]
  },
  {
   "cell_type": "code",
   "execution_count": 32,
   "metadata": {},
   "outputs": [
    {
     "name": "stdout",
     "output_type": "stream",
     "text": [
      "[3.06685897e-30+0.j 2.81857625e-49+0.j 1.41199644e-47+0.j\n",
      " 7.97626311e-26+0.j 7.60867913e-51+0.j 1.33227863e-46+0.j\n",
      " 1.25417023e-25+0.j 1.47019917e-47+0.j 1.46995075e-47+0.j\n",
      " 1.25417023e-25+0.j 1.33227040e-46+0.j 7.60885051e-51+0.j\n",
      " 7.97626311e-26+0.j 1.41196332e-47+0.j 2.81871325e-49+0.j\n",
      " 3.06685897e-30+0.j 2.39151441e-04+0.j 2.19793051e-23+0.j\n",
      " 1.10107051e-21+0.j 6.21983220e+00+0.j 5.93359487e-25+0.j\n",
      " 1.03890068e-20+0.j 9.77992865e+00+0.j 1.14644572e-21+0.j\n",
      " 1.14625363e-21+0.j 9.77992865e+00+0.j 1.03889191e-20+0.j\n",
      " 5.93370528e-25+0.j 6.21983220e+00+0.j 1.10102611e-21+0.j\n",
      " 2.19802125e-23+0.j 2.39151441e-04+0.j]\n"
     ]
    }
   ],
   "source": [
    "ten = cx_mpos[8].get_contracted_tensor_in_readable_form()\n",
    "print(np.diag(np.matmul(ten,ten.conj().T)))\n"
   ]
  }
 ],
 "metadata": {
  "kernelspec": {
   "display_name": "Python 3",
   "language": "python",
   "name": "python3"
  },
  "language_info": {
   "codemirror_mode": {
    "name": "ipython",
    "version": 3
   },
   "file_extension": ".py",
   "mimetype": "text/x-python",
   "name": "python",
   "nbconvert_exporter": "python",
   "pygments_lexer": "ipython3",
   "version": "3.10.6"
  },
  "orig_nbformat": 4
 },
 "nbformat": 4,
 "nbformat_minor": 2
}
